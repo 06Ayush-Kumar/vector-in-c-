{
  "nbformat": 4,
  "nbformat_minor": 0,
  "metadata": {
    "colab": {
      "provenance": [],
      "toc_visible": true,
      "authorship_tag": "ABX9TyMCQYL9PA15HfpfyE6ob7g/",
      "include_colab_link": true
    },
    "kernelspec": {
      "name": "python3",
      "display_name": "Python 3"
    },
    "language_info": {
      "name": "python"
    }
  },
  "cells": [
    {
      "cell_type": "markdown",
      "metadata": {
        "id": "view-in-github",
        "colab_type": "text"
      },
      "source": [
        "<a href=\"https://colab.research.google.com/github/06Ayush-Kumar/vector-in-c-/blob/main/Untitled7.ipynb\" target=\"_parent\"><img src=\"https://colab.research.google.com/assets/colab-badge.svg\" alt=\"Open In Colab\"/></a>"
      ]
    },
    {
      "cell_type": "markdown",
      "source": [
        "vector in c++"
      ],
      "metadata": {
        "id": "pTLPafO4Sabu"
      }
    },
    {
      "cell_type": "code",
      "source": [
        "#include<iostream>\n",
        "#include<vector>\n",
        "using namespace std;\n",
        "\n",
        "int main() {\n",
        "    vector<int> v = {1, 2, 4, 56};\n",
        "    vector<string> a = {\"ayush\", \"mohan\", \"mukjes\"};\n",
        "\n",
        "    // Add \"papa\" to vector 'a'\n",
        "    a.push_back(\"papa\");\n",
        "\n",
        "    // Insert \"mummy\" at the third position\n",
        "    a.insert(a.begin() + 2, \"mummy\");\n",
        "\n",
        "    cout << v[1] << '\\n' << a[3] << '\\n';\n",
        "\n",
        "    // Print elements of vector 'a' one by one\n",
        "    for (const auto &elem : a) {\n",
        "        cout << elem << \" \";\n",
        "    }\n",
        "\n",
        "    return 0;\n",
        "}"
      ],
      "metadata": {
        "id": "Zr5b7dnoTsXE"
      },
      "execution_count": null,
      "outputs": []
    },
    {
      "cell_type": "code",
      "source": [],
      "metadata": {
        "id": "CnSFsFBRTtV9"
      },
      "execution_count": null,
      "outputs": []
    },
    {
      "cell_type": "code",
      "source": [],
      "metadata": {
        "id": "LhJJCRpdUfga"
      },
      "execution_count": null,
      "outputs": []
    }
  ]
}